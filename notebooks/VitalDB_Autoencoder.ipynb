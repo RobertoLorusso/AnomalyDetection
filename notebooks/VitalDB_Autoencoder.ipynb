{
 "cells": [
  {
   "attachments": {},
   "cell_type": "markdown",
   "metadata": {},
   "source": [
    "## TO-DO/BUGS/Considerations"
   ]
  },
  {
   "attachments": {},
   "cell_type": "markdown",
   "metadata": {},
   "source": [
    "### BUGS\n",
    "\n",
    "- ECG data has been saved with nan values? when creating a flat list in order to get the mean,std values of the dataset, their values are nan because there are effectively some nan values in the data. This influences on the mean normalization\n",
    "\n",
    "### TO-DO\n",
    "\n",
    "- In remove_empty function insert also the ecg case\n",
    "- Create a general preprocess fuction for both test and train data\n",
    "\n",
    "### Considerations\n",
    "\n",
    "- The reconstruction error is significantly lower on the first feature, namely DBP\n",
    "- L'errore di ricostruzxoine è più affidabile usando la normalizzazione con la media, verificare con i dati dei pazienti sani!!!!!"
   ]
  },
  {
   "attachments": {},
   "cell_type": "markdown",
   "metadata": {},
   "source": [
    "## Environment setup"
   ]
  },
  {
   "cell_type": "code",
   "execution_count": null,
   "metadata": {},
   "outputs": [],
   "source": [
    "import vitaldb\n",
    "import os\n",
    "import numpy as np\n",
    "import matplotlib.pyplot as plt\n",
    "import pandas as pd\n",
    "import pickle\n",
    "\n",
    "import tensorflow as tf\n",
    "from tensorflow.keras.preprocessing import sequence\n",
    "from tensorflow.keras.models import Sequential\n",
    "from tensorflow.keras.layers import Dense, Embedding\n",
    "from tensorflow.keras.layers import LSTM\n",
    "from tensorflow.keras.utils import to_categorical\n",
    "from tensorflow.keras.preprocessing.text import Tokenizer\n",
    "from tensorflow.keras.preprocessing.sequence import pad_sequences\n",
    "from tensorflow.keras.models import Sequential\n",
    "from tensorflow.keras.layers import Dense, LSTM, Dropout, RepeatVector, TimeDistributed\n",
    "\n",
    "\n",
    "from sklearn.impute import SimpleImputer\n",
    "from sklearn.impute import KNNImputer\n",
    "\n"
   ]
  },
  {
   "attachments": {},
   "cell_type": "markdown",
   "metadata": {},
   "source": [
    "## Data load"
   ]
  },
  {
   "attachments": {},
   "cell_type": "markdown",
   "metadata": {},
   "source": [
    "### API data load"
   ]
  },
  {
   "cell_type": "code",
   "execution_count": null,
   "metadata": {},
   "outputs": [],
   "source": [
    "\n",
    "def load_healthy_API(type='n',n_cases=None):\n",
    "    caseids_all = vitaldb.find_cases(['ECG_II','ART_DBP','ART_SBP','BT','HR','RR']) # find ids of patient with this parameters\n",
    "    # Load dataset\n",
    "    df = pd.read_csv('https://api.vitaldb.net/cases')\n",
    "    df = df[df['asa'] < 3]\n",
    "\n",
    "    caseids_unhealthy = df['caseid'].to_numpy() \n",
    "    caseids = [el for el in caseids_all if el in caseids_unhealthy]\n",
    "\n",
    "    if(n_cases is None):\n",
    "        n_cases = len(caseids)\n",
    "\n",
    "    ecg = []\n",
    "    dbp = []\n",
    "    sbp = []\n",
    "    bt  = []\n",
    "    hr  = []\n",
    "    rr  = []\n",
    "\n",
    "    if(type in ('a','n','w')):\n",
    "\n",
    "        if(type in ('a','n')):\n",
    "\n",
    "            # load all the patients data \n",
    "            for i in range(0,n_cases): # Select only five patient for testing purpose; then len(caseids)\n",
    "                try:\n",
    "                    vals = vitaldb.load_case(caseids[i], ['ART_DBP','ART_SBP','BT','HR','RR'])\n",
    "                    dbp.append(vals[:,0])\n",
    "                    sbp.append(vals[:,1])\n",
    "                    bt.append(vals[:,2])\n",
    "                    hr.append(vals[:,3])\n",
    "                    rr.append(vals[:,4])\n",
    "\n",
    "                    # extract non-null values\n",
    "                    dbp[i] = dbp[i][~np.isnan(dbp[i])]  \n",
    "                    sbp[i] = sbp[i][~np.isnan(sbp[i])] \n",
    "                    bt[i] = bt[i][~np.isnan(bt[i])]\n",
    "                    hr[i] = hr[i][~np.isnan(hr[i])] \n",
    "                    rr[i] = rr[i][~np.isnan(rr[i])]\n",
    "\n",
    "                except Exception as e: \n",
    "                    print('\\n=================\\n')\n",
    "                    print('INDEX: '+str(i))\n",
    "                    print('ERROR: '+str(type(e)))\n",
    "                    print('\\n=================\\n')\n",
    "                    pass\n",
    "\n",
    "        if(type in ('a','w')):\n",
    "            for i in range(0,n_cases):\n",
    "                #vals = vitaldb.load_case(caseids[i], ['ECG_II'], 0.01) #parameter 0.01 for a 'zoomed' ecg\n",
    "                vals = vitaldb.load_case(caseids[i], ['ECG_II'])\n",
    "                ecg.append(vals[:,0])\n",
    "    \n",
    "    return ecg,dbp,sbp,bt,hr,rr\n",
    "\n"
   ]
  },
  {
   "cell_type": "code",
   "execution_count": null,
   "metadata": {},
   "outputs": [],
   "source": [
    "\n",
    "def load_ills_API(type='n',n_cases=None):\n",
    "    caseids_all = vitaldb.find_cases(['ECG_II','ART_DBP','ART_SBP','BT','HR','RR']) # find ids of patient with this parameters\n",
    "    # Load dataset\n",
    "    df = pd.read_csv('https://api.vitaldb.net/cases')\n",
    "    df = df[df['asa'] > 3]\n",
    "\n",
    "    caseids_unhealthy = df['caseid'].to_numpy() \n",
    "    caseids = [el for el in caseids_all if el in caseids_unhealthy]\n",
    "\n",
    "    if(n_cases is None):\n",
    "        n_cases = len(caseids)\n",
    "\n",
    "    ecg = []\n",
    "    dbp = []\n",
    "    sbp = []\n",
    "    bt  = []\n",
    "    hr  = []\n",
    "    rr  = []\n",
    "\n",
    "    if(type in ('a','n','w')):\n",
    "\n",
    "        if(type in ('a','n')):\n",
    "\n",
    "            # load all the patients data \n",
    "            for i in range(0,n_cases): # Select only five patient for testing purpose; then len(caseids)\n",
    "                try:\n",
    "                    vals = vitaldb.load_case(caseids[i], ['ART_DBP','ART_SBP','BT','HR','RR'])\n",
    "                    dbp.append(vals[:,0])\n",
    "                    sbp.append(vals[:,1])\n",
    "                    bt.append(vals[:,2])\n",
    "                    hr.append(vals[:,3])\n",
    "                    rr.append(vals[:,4])\n",
    "\n",
    "                    # extract non-null values\n",
    "                    dbp[i] = dbp[i][~np.isnan(dbp[i])]  \n",
    "                    sbp[i] = sbp[i][~np.isnan(sbp[i])] \n",
    "                    bt[i] = bt[i][~np.isnan(bt[i])]\n",
    "                    hr[i] = hr[i][~np.isnan(hr[i])] \n",
    "                    rr[i] = rr[i][~np.isnan(rr[i])]\n",
    "\n",
    "                except Exception as e: \n",
    "                    print('\\n=================\\n')\n",
    "                    print('INDEX: '+str(i))\n",
    "                    print('ERROR: '+str(type(e)))\n",
    "                    print('\\n=================\\n')\n",
    "                    pass\n",
    "\n",
    "        if(type in ('a','w')):\n",
    "            for i in range(0,n_cases):\n",
    "                #vals = vitaldb.load_case(caseids[i], ['ECG_II'], 0.01) #parameter 0.01 for a 'zoomed' ecg\n",
    "                vals = vitaldb.load_case(caseids[i], ['ECG_II'])\n",
    "                ecg.append(vals[:,0])\n",
    "    \n",
    "    return ecg,dbp,sbp,bt,hr,rr\n",
    "\n"
   ]
  },
  {
   "attachments": {},
   "cell_type": "markdown",
   "metadata": {},
   "source": [
    "### Disk data load"
   ]
  },
  {
   "cell_type": "code",
   "execution_count": null,
   "metadata": {},
   "outputs": [],
   "source": [
    "def load_from_disk(path):\n",
    "    ecg = []\n",
    "    dbp = []\n",
    "    sbp = []\n",
    "    bt  = []\n",
    "    hr  = []\n",
    "    rr  = []\n",
    "\n",
    "# save the data into a file since loading all the 2k caseids requires at least 1h\n",
    "    filepath = os.path.join(path,'numeric_data.vitaldb')\n",
    "    ecgpath = os.path.join(path,'ecg_data.vitaldb')\n",
    "    #ecgpath = '/Volumes/Windows/SIIA/ecg_data.vitaldb'\n",
    "\n",
    "    with open(ecgpath, 'rb') as f:\n",
    "        (ecg) = pickle.load(f)\n",
    "    with open(filepath, 'rb') as f:\n",
    "        (dbp,sbp,bt,hr,rr) = pickle.load(f)\n",
    "    \n",
    "    return ecg,dbp,sbp,bt,hr,rr"
   ]
  },
  {
   "cell_type": "code",
   "execution_count": null,
   "metadata": {},
   "outputs": [],
   "source": [
    "def save_to_disk(path,ecg,dbp,sbp,bt,hr,rr):\n",
    "# save the data into a file since loading all the 2k caseids requires at least 1h\n",
    "\n",
    "    with open(os.path.join(path,'numeric_data.vitaldb'), 'wb') as f:\n",
    "        pickle.dump((dbp,sbp,bt,hr,rr), f)\n",
    "\n",
    "    with open(os.path.join(path,'ecg_data.vitaldb'), 'wb') as f:\n",
    "        pickle.dump(ecg, f)\n",
    "\n",
    "\n",
    "\n",
    "## save the data into a file since loading all the 2k caseids requires at least 1h\n",
    "#filepath = '/Users/Roberto/projects/siiaproject-vitanomaly/data.vitaldb'\n",
    "#ecgpath = '/Volumes/Windows/SIIA/ecg_data.vitaldb'\n",
    "#ecgpath = '/Users/Roberto/projects/siiaproject-vitanomaly/ecg_data.vitaldb'\n"
   ]
  },
  {
   "attachments": {},
   "cell_type": "markdown",
   "metadata": {},
   "source": [
    "### Visualize"
   ]
  },
  {
   "cell_type": "code",
   "execution_count": null,
   "metadata": {},
   "outputs": [],
   "source": [
    "def plot_data(ecg,dbp,sbp,bt,hr,rr,val = None):\n",
    "    \n",
    "    if(val == None or not isinstance(val,int)):\n",
    "        val = np.argmax([len(el) for el in sbp])\n",
    "    \n",
    "    plt.figure(figsize=(20,10))\n",
    "    plt.subplot(611)\n",
    "    plt.title(\"ECG\")\n",
    "    plt.plot(ecg[val], color='yellow')\n",
    "    plt.subplots_adjust(hspace=1.)\n",
    "    plt.subplot(612)\n",
    "    plt.title(\"DBP\")\n",
    "    plt.plot(dbp[val], color='b')\n",
    "    plt.subplots_adjust(hspace=1.)\n",
    "    plt.subplot(613)\n",
    "    plt.title(\"SBP\")\n",
    "    plt.plot(sbp[val][:], color='r')\n",
    "\n",
    "    plt.subplot(614)\n",
    "    plt.title(\"Body temperature\")\n",
    "    plt.plot(bt[val][:], color='orange')\n",
    "\n",
    "    plt.subplot(615)\n",
    "    plt.title(\"Heart rate\")\n",
    "    plt.plot(hr[val][:], color='r')\n",
    "\n",
    "    plt.subplot(616)\n",
    "    plt.title(\"Respiratory rate\")\n",
    "    plt.plot(rr[val][:], color='g')\n",
    "    plt.show()"
   ]
  },
  {
   "attachments": {},
   "cell_type": "markdown",
   "metadata": {},
   "source": [
    "## Preprocessing"
   ]
  },
  {
   "cell_type": "code",
   "execution_count": null,
   "metadata": {},
   "outputs": [],
   "source": [
    "def remove_empty(ecg,dbp,sbp,bt,hr,rr):\n",
    "# remove empty elements\n",
    "    try:\n",
    "        for i in range(0,len(dbp) - len([el for el in dbp if len(el) == 0])):\n",
    "            if(len(dbp[i])==0):\n",
    "                dbp.pop(i)\n",
    "    except:\n",
    "        pass\n",
    "\n",
    "    try:\n",
    "        for i in range(0,len(sbp) - len([el for el in sbp if len(el) == 0])):\n",
    "            if(len(sbp[i])==0):\n",
    "                sbp.pop(i)\n",
    "    except:\n",
    "        pass\n",
    "\n",
    "    try:\n",
    "        for i in range(0,len(bt) - len([el for el in bt if len(el) == 0])):\n",
    "            if(len(bt[i])==0):\n",
    "                bt.pop(i)\n",
    "    except:\n",
    "        pass\n",
    "\n",
    "    try:\n",
    "        for i in range(0,len(hr) - len([el for el in hr if len(el) == 0])):\n",
    "            if(len(hr[i])==0):\n",
    "                hr.pop(i)\n",
    "    except:\n",
    "        pass\n",
    "\n",
    "    try:\n",
    "        for i in range(0,len(rr) - len([el for el in rr if len(el) == 0])):\n",
    "            if(len(rr[i])==0):\n",
    "                rr.pop(i)\n",
    "    except:\n",
    "        pass\n",
    "\n",
    "    try:\n",
    "        for i in range(0,len(ecg) - len([el for el in ecg if len(el) == 0])):\n",
    "            if(len(ecg[i])==0):\n",
    "                ecg.pop(i)\n",
    "    except:\n",
    "        pass\n",
    "\n",
    "    return ecg,dbp,sbp,bt,hr,rr\n",
    "\n"
   ]
  },
  {
   "cell_type": "code",
   "execution_count": null,
   "metadata": {},
   "outputs": [],
   "source": [
    "def minmax_norm(ecg,dbp,sbp,bt,hr,rr):\n",
    "    old_settings = np.seterr(all='raise')\n",
    "    idx_remove = []\n",
    "    for i in range(0,len(ecg)): \n",
    "        try:\n",
    "            #Remove negative values\n",
    "            ecg[i][np.argwhere(ecg[i]<0)] = np.mean(ecg[i]) \n",
    "            # MinMax normalization\n",
    "            ecg[i] = (ecg[i] - np.min(ecg[i]))/(np.max(ecg[i])-np.min(ecg[i])) \n",
    "        except: \n",
    "            # remove values for which the normalization gives Runtime warning\n",
    "            idx_remove.append(i)\n",
    "\n",
    "    for idx in idx_remove: \n",
    "        ecg.pop(idx)\n",
    "\n",
    "    idx_remove = []\n",
    "    for i in range(0,len(dbp)): \n",
    "        try:\n",
    "            #Remove negative values\n",
    "            dbp[i][np.argwhere(dbp[i]<0)] = np.mean(dbp[i]) \n",
    "            # MinMax normalization\n",
    "            dbp[i] = (dbp[i] - np.min(dbp[i]))/(np.max(dbp[i])-np.min(dbp[i])) \n",
    "        except: \n",
    "            # remove values for which the normalization gives Runtime warning\n",
    "            idx_remove.append(i)\n",
    "\n",
    "    for idx in idx_remove: \n",
    "        dbp.pop(idx)\n",
    "\n",
    "    idx_remove = []  \n",
    "    for i in range(0,len(sbp)): \n",
    "        try:\n",
    "            #Remove negative values\n",
    "            sbp[i][np.argwhere(sbp[i]<0)] = np.mean(sbp[i]) \n",
    "            # MinMax normalization\n",
    "            sbp[i] = (sbp[i] - np.min(sbp[i]))/(np.max(sbp[i])-np.min(sbp[i])) \n",
    "        except: \n",
    "            # remove values for which the normalization gives Runtime warning\n",
    "            idx_remove.append(i)\n",
    "\n",
    "    for idx in idx_remove: \n",
    "        sbp.pop(idx)\n",
    "\n",
    "\n",
    "\n",
    "    idx_remove = []\n",
    "    for i in range(0,len(bt)): \n",
    "        try:\n",
    "            #Remove negative values\n",
    "            bt[i][np.argwhere(bt[i]<0)] = np.mean(bt[i]) \n",
    "            # MinMax normalization\n",
    "            bt[i] = (bt[i] - np.min(bt[i]))/(np.max(bt[i])-np.min(bt[i])) \n",
    "        except: \n",
    "            # remove values for which the normalization gives Runtime warning\n",
    "            idx_remove.append(i)\n",
    "\n",
    "    for idx in idx_remove: \n",
    "        bt.pop(idx)\n",
    "\n",
    "\n",
    "\n",
    "    idx_remove = []\n",
    "    for i in range(0,len(hr)): \n",
    "        try:\n",
    "            #Remove negative values\n",
    "            hr[i][np.argwhere(hr[i]<0)] = np.mean(hr[i]) \n",
    "            # MinMax normalization\n",
    "            hr[i] = (hr[i] - np.min(hr[i]))/(np.max(hr[i])-np.min(hr[i])) \n",
    "        except: \n",
    "            # remove values for which the normalization gives Runtime warning\n",
    "            idx_remove.append(i)\n",
    "\n",
    "    for idx in idx_remove: \n",
    "        hr.pop(idx)\n",
    "\n",
    "\n",
    "    idx_remove = []\n",
    "    for i in range(0,len(rr)): \n",
    "        try:\n",
    "            #Remove negative values\n",
    "            rr[i][np.argwhere(rr[i]<0)] = np.mean(rr[i]) \n",
    "            # MinMax normalization\n",
    "            rr[i] = (rr[i] - np.min(rr[i]))/(np.max(rr[i])-np.min(rr[i])) \n",
    "        except: \n",
    "            # remove values for which the normalization gives Runtime warning\n",
    "            idx_remove.append(i)\n",
    "\n",
    "    for idx in idx_remove: \n",
    "        rr.pop(idx)\n",
    "\n",
    "\n",
    "    # Back to default settings for errors\n",
    "    np.seterr(**old_settings)\n",
    "\n",
    "    return ecg,dbp,sbp,bt,hr,rr"
   ]
  },
  {
   "cell_type": "code",
   "execution_count": null,
   "metadata": {},
   "outputs": [],
   "source": [
    "def mean_norm(ecg,dbp,sbp,bt,hr,rr):\n",
    "\n",
    "\n",
    "    flat_list_ecg = np.asarray([item for sublist in ecg for item in sublist],dtype='float64')\n",
    "    flat_list_dbp = np.asarray([item for sublist in dbp for item in sublist],dtype='float64')\n",
    "    flat_list_sbp = np.asarray([item for sublist in sbp for item in sublist],dtype='float64')\n",
    "    flat_list_hr = np.asarray([item for sublist in hr for item in sublist],dtype='float64')\n",
    "    flat_list_bt = np.asarray([item for sublist in bt  for item in sublist],dtype='float64')\n",
    "    flat_list_rr = np.asarray([item for sublist in rr for item in sublist],dtype='float64')\n",
    "    #print({'dbp':len(flat_list_dbp),'sbp':len(flat_list_sbp),'hr':len(flat_list_hr),'bt':len(flat_list_bt),'rr':len(flat_list_rr)})\n",
    "\n",
    "\n",
    "    #ecg_mean,ecg_std = np.mean(flat_list_ecg),np.std(flat_list_ecg)\n",
    "    dbp_mean,dbp_std = np.mean(flat_list_dbp),np.std(flat_list_dbp)\n",
    "    sbp_mean,sbp_std = np.mean(flat_list_sbp),np.std(flat_list_sbp)\n",
    "    bt_mean,bt_std = np.mean(flat_list_bt),np.std(flat_list_bt)\n",
    "    hr_mean,hr_std = np.mean(flat_list_hr),np.std(flat_list_hr)\n",
    "    rr_mean,rr_std = np.mean(flat_list_rr),np.std(flat_list_rr)\n",
    "\n",
    "\n",
    "    old_settings = np.seterr(all='raise')\n",
    "    idx_remove = []\n",
    "\n",
    "\n",
    "\n",
    "    #for i in range(0,len(ecg)): \n",
    "    #    try:\n",
    "    #        #Remove negative values\n",
    "    #        ecg[i][np.argwhere(ecg[i]<0)] = np.mean(ecg[i]) \n",
    "    #        # MinMax normalization\n",
    "    #        ecg[i] = (ecg[i] - ecg_mean)/(ecg_std) \n",
    "    #    except: \n",
    "    #        # remove values for which the normalization gives Runtime warning\n",
    "    #        idx_remove.append(i)\n",
    "#\n",
    "    #for idx in idx_remove: \n",
    "    #    ecg.pop(idx)\n",
    "\n",
    "    idx_remove = []\n",
    "    for i in range(0,len(dbp)): \n",
    "        try:\n",
    "            #Remove negative values\n",
    "            dbp[i][np.argwhere(dbp[i]<0)] = np.mean(dbp[i]) \n",
    "            # MinMax normalization\n",
    "            dbp[i] = (dbp[i] - dbp_mean)/(dbp_std) \n",
    "        except: \n",
    "            # remove values for which the normalization gives Runtime warning\n",
    "            idx_remove.append(i)\n",
    "\n",
    "    for idx in idx_remove: \n",
    "        dbp.pop(idx)\n",
    "\n",
    "    idx_remove = []  \n",
    "    for i in range(0,len(sbp)): \n",
    "        try:\n",
    "            #Remove negative values\n",
    "            sbp[i][np.argwhere(sbp[i]<0)] = np.mean(sbp[i]) \n",
    "            # MinMax normalization\n",
    "            sbp[i] = (sbp[i] - sbp_mean)/(sbp_std) \n",
    "        except: \n",
    "            # remove values for which the normalization gives Runtime warning\n",
    "            idx_remove.append(i)\n",
    "\n",
    "    for idx in idx_remove: \n",
    "        sbp.pop(idx)\n",
    "\n",
    "\n",
    "\n",
    "    idx_remove = []\n",
    "    for i in range(0,len(bt)): \n",
    "        try:\n",
    "            #Remove negative values\n",
    "            bt[i][np.argwhere(bt[i]<0)] = np.mean(bt[i]) \n",
    "            # MinMax normalization\n",
    "            bt[i] = (bt[i] - bt_mean)/(bt_std) \n",
    "        except: \n",
    "            # remove values for which the normalization gives Runtime warning\n",
    "            idx_remove.append(i)\n",
    "\n",
    "    for idx in idx_remove: \n",
    "        bt.pop(idx)\n",
    "\n",
    "\n",
    "\n",
    "    idx_remove = []\n",
    "    for i in range(0,len(hr)): \n",
    "        try:\n",
    "            #Remove negative values\n",
    "            hr[i][np.argwhere(hr[i]<0)] = np.mean(hr[i]) \n",
    "            # MinMax normalization\n",
    "            hr[i] = (hr[i] - hr_mean)/(hr_std) \n",
    "        except: \n",
    "            # remove values for which the normalization gives Runtime warning\n",
    "            idx_remove.append(i)\n",
    "\n",
    "    for idx in idx_remove: \n",
    "        hr.pop(idx)\n",
    "\n",
    "\n",
    "    idx_remove = []\n",
    "    for i in range(0,len(rr)): \n",
    "        try:\n",
    "            #Remove negative values\n",
    "            rr[i][np.argwhere(rr[i]<0)] = np.mean(rr[i]) \n",
    "            # MinMax normalization\n",
    "            rr[i] = (rr[i] - rr_mean)/(rr_std) \n",
    "        except: \n",
    "            # remove values for which the normalization gives Runtime warning\n",
    "            idx_remove.append(i)\n",
    "\n",
    "    for idx in idx_remove: \n",
    "        rr.pop(idx)\n",
    "\n",
    "\n",
    "    # Back to default settings for errors\n",
    "    np.seterr(**old_settings)\n",
    "\n",
    "    return ecg,dbp,sbp,bt,hr,rr\n",
    "\n"
   ]
  },
  {
   "cell_type": "code",
   "execution_count": null,
   "metadata": {},
   "outputs": [],
   "source": [
    "def get_preprocessed_data(path, norm = 'minmax'):\n",
    "    ecg,dbp,sbp,bt,hr,rr = load_from_disk(path=path)\n",
    "    ecg,dbp,sbp,bt,hr,rr = remove_empty(ecg,dbp,sbp,bt,hr,rr)\n",
    "    if(norm == 'mean'):\n",
    "        ecg,dbp,sbp,bt,hr,rr = mean_norm(ecg,dbp,sbp,bt,hr,rr )\n",
    "    elif(norm == 'minmax'): \n",
    "        ecg,dbp,sbp,bt,hr,rr = minmax_norm(ecg,dbp,sbp,bt,hr,rr )\n",
    "\n",
    "    return ecg,dbp,sbp,bt,hr,rr "
   ]
  },
  {
   "cell_type": "code",
   "execution_count": 121,
   "metadata": {},
   "outputs": [],
   "source": [
    "ecg,dbp,sbp,bt,hr,rr = get_preprocessed_data('/Users/Roberto/projects/AnomalyDetection/data/raw',norm = 'mean')"
   ]
  },
  {
   "cell_type": "code",
   "execution_count": null,
   "metadata": {},
   "outputs": [],
   "source": [
    "plot_data(ecg,dbp,sbp,bt,hr,rr)"
   ]
  },
  {
   "attachments": {},
   "cell_type": "markdown",
   "metadata": {},
   "source": [
    "# Autoencoder"
   ]
  },
  {
   "attachments": {},
   "cell_type": "markdown",
   "metadata": {},
   "source": [
    "## Dense Autoencoder"
   ]
  },
  {
   "cell_type": "code",
   "execution_count": null,
   "metadata": {},
   "outputs": [],
   "source": [
    "flat_list = np.asarray([item for sublist in dbp for item in sublist],dtype='float64')\n",
    "print(flat_list.shape)"
   ]
  },
  {
   "cell_type": "code",
   "execution_count": null,
   "metadata": {},
   "outputs": [],
   "source": [
    "chunks = np.array_split(flat_list,1000)\n",
    "seq_len = len(chunks[1])"
   ]
  },
  {
   "cell_type": "code",
   "execution_count": null,
   "metadata": {},
   "outputs": [],
   "source": [
    "ntrain = int(len(chunks) * 0.7) # 70% percent of data fro training\n",
    "max_lenght = max([len(el) for el in chunks])\n",
    "# Uniform lenghts\n",
    "X_train = pad_sequences(chunks, max_lenght,padding='post',value=0.5,dtype='float64')\n",
    "print(np.shape(X_train))"
   ]
  },
  {
   "cell_type": "code",
   "execution_count": null,
   "metadata": {},
   "outputs": [],
   "source": [
    "n_dim = X_train.shape[1]\n",
    "#input Layer\n",
    "input_layer = tf.keras.layers.Input(shape=(n_dim,))\n",
    "#Encoder\n",
    "encoder = tf.keras.layers.Dense(512, activation=\"tanh\", activity_regularizer=tf.keras.regularizers.l2(0.0005))(input_layer)\n",
    "encoder=tf.keras.layers.Dropout(0.2)(encoder)\n",
    "encoder = tf.keras.layers.Dense(256, activation='tanh')(encoder)\n",
    "encoder = tf.keras.layers.Dense(128, activation='relu')(encoder)\n",
    "encoder = tf.keras.layers.Dense(64, activation='relu')(encoder)\n",
    "# Decoder\n",
    "decoder = tf.keras.layers.Dense(64, activation='relu')(encoder)\n",
    "decoder = tf.keras.layers.Dense(128, activation='relu')(decoder)\n",
    "decoder = tf.keras.layers.Dense(256, activation='tanh')(decoder)\n",
    "decoder=tf.keras.layers.Dropout(0.2)(decoder)\n",
    "decoder = tf.keras.layers.Dense(512, activation='tanh')(decoder)\n",
    "decoder = tf.keras.layers.Dense(n_dim, activation='tanh')(decoder)\n",
    "#Autoencoder\n",
    "autoencoder = tf.keras.Model(inputs=input_layer, outputs=decoder)\n",
    "autoencoder.compile(loss='mean_squared_error', optimizer='adam', metrics=['accuracy'])\n",
    "autoencoder.summary()"
   ]
  },
  {
   "cell_type": "code",
   "execution_count": null,
   "metadata": {},
   "outputs": [],
   "source": [
    "autoencoder.fit(X_train,X_train,epochs=15,batch_size=64,validation_split=0.2)"
   ]
  },
  {
   "cell_type": "code",
   "execution_count": null,
   "metadata": {},
   "outputs": [],
   "source": [
    "val_p = vitaldb.load_case(263, ['ART_DBP','ART_SBP','BT','HR','RR'])\n",
    "test = val_p[:,0]\n",
    "\n",
    "test = test[~np.isnan(test)] \n",
    "\n",
    "print(np.shape(test))\n",
    "\n",
    "test = test[:seq_len]\n",
    "test = (test-np.min(test))/(np.max(test)-np.min(test))\n",
    "\n",
    "\n",
    "res = autoencoder.predict(np.expand_dims(test,axis=0))\n",
    "\n",
    "print(np.linalg.norm(test,2))\n",
    "print(np.linalg.norm(res[0],2))\n",
    "print(abs(np.linalg.norm(test,2)-np.linalg.norm(res[0],2)))\n",
    "\n",
    "plt.figure(figsize=(20,10))\n",
    "plt.subplot(211)\n",
    "plt.title('Original')\n",
    "plt.plot(test)\n",
    "\n",
    "plt.subplot(212)\n",
    "plt.title('Reconstructed')\n",
    "\n",
    "plt.plot(res[0],scaley=1.)\n"
   ]
  },
  {
   "cell_type": "code",
   "execution_count": null,
   "metadata": {},
   "outputs": [],
   "source": [
    "# Test on a patient. NB: the data has to be normalized with MinMax approach\n",
    "#val_p = vitaldb.load_case(17, ['ART_DBP','ART_SBP','BT','HR','RR'])\n",
    "#\n",
    "## Pre-processing: remove nan vals, normalize and padding\n",
    "#val_p = val_p[~np.isnan(val_p)]\n",
    "#val_p = (val_p-np.min(val_p))/(np.max(val_p)-np.min(val_p))\n",
    "#test = pad_sequences([val_p],max_lenght,padding='post',value=0.5,dtype='float64')\n",
    "#\n",
    "#res = autoencoder.predict(test)\n",
    "#\n",
    "## The error for case 464 (ill patient) is much greater than case 17 (healthy patient)\n",
    "#print(np.linalg.norm(test,2))\n",
    "#print(np.linalg.norm(res[0],2))\n",
    "#print(abs(np.linalg.norm(test,2)-np.linalg.norm(res[0],2)))"
   ]
  },
  {
   "attachments": {},
   "cell_type": "markdown",
   "metadata": {},
   "source": [
    "## LSTM Autoencoder\n"
   ]
  },
  {
   "attachments": {},
   "cell_type": "markdown",
   "metadata": {},
   "source": [
    "### Univariate"
   ]
  },
  {
   "cell_type": "code",
   "execution_count": null,
   "metadata": {},
   "outputs": [],
   "source": [
    "flat_list = np.asarray([item for sublist in dbp for item in sublist],dtype='float64')\n",
    "print(flat_list.shape)\n",
    "TIME_STEP = 6000 # 6000 is the mean length of the dbp time series\n",
    "X_train = []\n",
    "for seq in range(0,len(flat_list), TIME_STEP):\n",
    "    X_train.append(flat_list[seq:seq+TIME_STEP])\n",
    "X_train = np.asarray(X_train,dtype=object)\n",
    "X_train = pad_sequences(X_train, TIME_STEP,padding='post',value=0.5,dtype='float64')\n",
    "X_train = np.asarray(np.expand_dims(X_train,axis=2))\n",
    "print(X_train.shape)\n"
   ]
  },
  {
   "cell_type": "code",
   "execution_count": null,
   "metadata": {},
   "outputs": [],
   "source": [
    "batch_size, seq_len, n_features= X_train.shape"
   ]
  },
  {
   "cell_type": "code",
   "execution_count": null,
   "metadata": {},
   "outputs": [],
   "source": [
    "model = Sequential()\n",
    "model.add(LSTM(128, input_shape=(seq_len, n_features),return_sequences=True))\n",
    "model.add(Dropout(rate=0.2))\n",
    "model.add(LSTM(64,return_sequences=True,recurrent_activation='tanh'))\n",
    "model.add(LSTM(32,return_sequences=True,recurrent_activation='relu'))\n",
    "model.add(LSTM(32,return_sequences=True,recurrent_activation='relu'))\n",
    "model.add(LSTM(64, return_sequences=True,recurrent_activation='tanh'))\n",
    "model.add(Dropout(rate=0.2))\n",
    "model.add(LSTM(128,return_sequences=True))\n",
    "model.add(TimeDistributed(Dense(n_features)))\n",
    "model.compile(optimizer='adam', loss='mae')\n",
    "model.summary()"
   ]
  },
  {
   "cell_type": "code",
   "execution_count": null,
   "metadata": {},
   "outputs": [],
   "source": [
    "history = model.fit(X_train, X_train, epochs=10, batch_size=64, validation_split=0.1,shuffle=False,verbose=1)"
   ]
  },
  {
   "attachments": {},
   "cell_type": "markdown",
   "metadata": {},
   "source": [
    "### Multivariate"
   ]
  },
  {
   "cell_type": "code",
   "execution_count": 122,
   "metadata": {},
   "outputs": [
    {
     "name": "stdout",
     "output_type": "stream",
     "text": [
      "{'dbp': 17738184, 'sbp': 17756137, 'hr': 18369986, 'bt': 15624782, 'rr': 18123465}\n"
     ]
    }
   ],
   "source": [
    "TIME_STEP = 6000 # 6000 is the mean length of the dbp time series\n",
    "\n",
    "flat_list_dbp = np.asarray([item for sublist in dbp for item in sublist],dtype='float64')\n",
    "flat_list_sbp = np.asarray([item for sublist in sbp for item in sublist],dtype='float64')\n",
    "flat_list_hr = np.asarray([item for sublist in hr for item in sublist],dtype='float64')\n",
    "flat_list_bt = np.asarray([item for sublist in bt  for item in sublist],dtype='float64')\n",
    "flat_list_rr = np.asarray([item for sublist in rr for item in sublist],dtype='float64')\n",
    "print({'dbp':len(flat_list_dbp),'sbp':len(flat_list_sbp),'hr':len(flat_list_hr),'bt':len(flat_list_bt),'rr':len(flat_list_rr)})"
   ]
  },
  {
   "cell_type": "code",
   "execution_count": 123,
   "metadata": {},
   "outputs": [],
   "source": [
    "X_dbp = []\n",
    "for seq in range(0,len(flat_list_dbp), TIME_STEP):\n",
    "    X_dbp.append(flat_list_dbp[seq:seq+TIME_STEP])\n",
    "X_dbp = np.asarray(X_dbp,dtype=object)\n",
    "X_dbp = pad_sequences(X_dbp, TIME_STEP,padding='post',value = np.mean(flat_list_dbp),dtype='float64')\n",
    "X_dbp = np.asarray(np.expand_dims(X_dbp,axis=2))\n",
    "\n",
    "\n",
    "X_sbp = []\n",
    "for seq in range(0,len(flat_list_sbp), TIME_STEP):\n",
    "    X_sbp.append(flat_list_sbp[seq:seq+TIME_STEP])\n",
    "X_sbp = np.asarray(X_sbp,dtype=object)\n",
    "X_sbp = pad_sequences(X_sbp, TIME_STEP,padding='post',value = np.mean(flat_list_sbp),dtype='float64')\n",
    "X_sbp = np.asarray(np.expand_dims(X_sbp,axis=2))\n",
    "\n",
    "\n",
    "X_bt = []\n",
    "for seq in range(0,len(flat_list_bt), TIME_STEP):\n",
    "    X_bt.append(flat_list_bt[seq:seq+TIME_STEP])\n",
    "X_bt = np.asarray(X_bt,dtype=object)\n",
    "X_bt = pad_sequences(X_bt, TIME_STEP,padding='post',value = np.mean(flat_list_bt),dtype='float64')\n",
    "X_bt = np.asarray(np.expand_dims(X_bt,axis=2))\n",
    "\n",
    "X_hr = []\n",
    "for seq in range(0,len(flat_list_hr), TIME_STEP):\n",
    "    X_hr.append(flat_list_hr[seq:seq+TIME_STEP])\n",
    "X_hr = np.asarray(X_hr,dtype=object)\n",
    "X_hr = pad_sequences(X_hr, TIME_STEP,padding='post',value = np.mean(flat_list_hr),dtype='float64')\n",
    "X_hr = np.asarray(np.expand_dims(X_hr,axis=2))\n",
    "\n",
    "X_rr = []\n",
    "for seq in range(0,len(flat_list_rr), TIME_STEP):\n",
    "    X_rr.append(flat_list_rr[seq:seq+TIME_STEP])\n",
    "X_rr = np.asarray(X_rr,dtype=object)\n",
    "X_rr = pad_sequences(X_rr, TIME_STEP,padding='post',value = np.mean(flat_list_rr),dtype='float64')\n",
    "X_rr = np.asarray(np.expand_dims(X_rr,axis=2))\n",
    "\n"
   ]
  },
  {
   "cell_type": "code",
   "execution_count": 124,
   "metadata": {},
   "outputs": [
    {
     "name": "stdout",
     "output_type": "stream",
     "text": [
      "(30, 6000, 5)\n"
     ]
    }
   ],
   "source": [
    "# Truncate all the values to the min length of the training istances\n",
    "min_len = np.min([X_dbp.shape[0],X_sbp.shape[0],X_bt.shape[0],X_hr.shape[0],X_rr.shape[0]])\n",
    "min_len\n",
    "\n",
    "X_dbp = X_dbp[:min_len,:]\n",
    "X_sbp = X_sbp[:min_len,:]\n",
    "X_bt = X_bt[:min_len,:]\n",
    "X_hr = X_hr[:min_len,:]\n",
    "X_rr = X_rr[:min_len,:]\n",
    "\n",
    "Y = np.concatenate([X_dbp, X_sbp, X_bt, X_hr, X_rr],axis=2)\n",
    "X_train = Y[:30,...] # Select the first N instances\n",
    "print(X_train.shape)"
   ]
  },
  {
   "cell_type": "code",
   "execution_count": 125,
   "metadata": {},
   "outputs": [],
   "source": [
    "batch_size, seq_len, n_features = X_train.shape"
   ]
  },
  {
   "cell_type": "code",
   "execution_count": 126,
   "metadata": {},
   "outputs": [
    {
     "name": "stdout",
     "output_type": "stream",
     "text": [
      "Model: \"sequential_2\"\n",
      "_________________________________________________________________\n",
      " Layer (type)                Output Shape              Param #   \n",
      "=================================================================\n",
      " lstm_6 (LSTM)               (None, 6000, 64)          17920     \n",
      "                                                                 \n",
      " dropout_4 (Dropout)         (None, 6000, 64)          0         \n",
      "                                                                 \n",
      " lstm_7 (LSTM)               (None, 6000, 32)          12416     \n",
      "                                                                 \n",
      " lstm_8 (LSTM)               (None, 6000, 64)          24832     \n",
      "                                                                 \n",
      " dropout_5 (Dropout)         (None, 6000, 64)          0         \n",
      "                                                                 \n",
      " time_distributed_2 (TimeDis  (None, 6000, 5)          325       \n",
      " tributed)                                                       \n",
      "                                                                 \n",
      "=================================================================\n",
      "Total params: 55,493\n",
      "Trainable params: 55,493\n",
      "Non-trainable params: 0\n",
      "_________________________________________________________________\n"
     ]
    }
   ],
   "source": [
    "model = Sequential()\n",
    "model.add(LSTM(64, input_shape=(seq_len, n_features),return_sequences=True))\n",
    "model.add(Dropout(rate=0.1))\n",
    "model.add(LSTM(32,return_sequences=True))\n",
    "model.add(LSTM(64, return_sequences=True))\n",
    "model.add(Dropout(rate=0.1))\n",
    "model.add(TimeDistributed(Dense(n_features)))\n",
    "model.compile(optimizer='adam', loss='mae')\n",
    "model.summary()"
   ]
  },
  {
   "cell_type": "code",
   "execution_count": 127,
   "metadata": {},
   "outputs": [
    {
     "name": "stdout",
     "output_type": "stream",
     "text": [
      "Epoch 1/5\n",
      "1/1 [==============================] - 14s 14s/step - loss: 0.4476\n",
      "Epoch 2/5\n",
      "1/1 [==============================] - 9s 9s/step - loss: 0.4289\n",
      "Epoch 3/5\n",
      "1/1 [==============================] - 9s 9s/step - loss: 0.4112\n",
      "Epoch 4/5\n",
      "1/1 [==============================] - 9s 9s/step - loss: 0.3935\n",
      "Epoch 5/5\n",
      "1/1 [==============================] - 9s 9s/step - loss: 0.3761\n"
     ]
    }
   ],
   "source": [
    "history = model.fit(X_train, X_train, epochs=5,shuffle=True,verbose=1)"
   ]
  },
  {
   "attachments": {},
   "cell_type": "markdown",
   "metadata": {},
   "source": [
    "#### Predict"
   ]
  },
  {
   "cell_type": "code",
   "execution_count": 128,
   "metadata": {},
   "outputs": [],
   "source": [
    "_,hdbp,hsbp,hbt,hhr,hrr = load_ills_API(n_cases=5)\n",
    "#_,hdbp,hsbp,_,_,_ = load_healthy_API(n_cases=5)\n",
    "_,hdbp,hsbp,hbt,hhr,hrr = remove_empty(_,hdbp,hsbp,hbt,hhr,hrr)\n",
    "_,hdbp,hsbp,hbt,hhr,hrr = mean_norm(_,hdbp,hsbp,hbt,hhr,hrr)\n",
    "#_,hdbp,hsbp,hbt,hhr,hrr = minmax_norm(_,hdbp,hsbp,hbt,hhr,hrr)"
   ]
  },
  {
   "cell_type": "code",
   "execution_count": 129,
   "metadata": {},
   "outputs": [],
   "source": [
    "flat_list_hdbp = np.asarray([item for sublist in hdbp for item in sublist],dtype='float64')\n",
    "flat_list_hsbp = np.asarray([item for sublist in hsbp for item in sublist],dtype='float64')\n",
    "flat_list_hbt = np.asarray([item for sublist in hbt for item in sublist],dtype='float64')\n",
    "flat_list_hhr = np.asarray([item for sublist in hhr for item in sublist],dtype='float64')\n",
    "flat_list_hrr = np.asarray([item for sublist in hrr for item in sublist],dtype='float64')"
   ]
  },
  {
   "cell_type": "code",
   "execution_count": 130,
   "metadata": {},
   "outputs": [],
   "source": [
    "TIME_STEP = 6000 # 6000 is the mean length of the dbp time series\n",
    "\n",
    "X_dbp = []\n",
    "for seq in range(0,len(flat_list_hdbp), TIME_STEP):\n",
    "    X_dbp.append(flat_list_hdbp[seq:seq+TIME_STEP])\n",
    "X_dbp = np.asarray(X_dbp,dtype=object)\n",
    "\n",
    "\n",
    "X_sbp = []\n",
    "for seq in range(0,len(flat_list_hsbp), TIME_STEP):\n",
    "    X_sbp.append(flat_list_hsbp[seq:seq+TIME_STEP])\n",
    "X_sbp = np.asarray(X_sbp,dtype=object)\n",
    "\n",
    "\n",
    "X_bt = []\n",
    "for seq in range(0,len(flat_list_hbt), TIME_STEP):\n",
    "    X_bt.append(flat_list_hbt[seq:seq+TIME_STEP])\n",
    "X_bt = np.asarray(X_bt,dtype=object)\n",
    "\n",
    "\n",
    "X_hr = []\n",
    "for seq in range(0,len(flat_list_hhr), TIME_STEP):\n",
    "    X_hr.append(flat_list_hhr[seq:seq+TIME_STEP])\n",
    "X_hr = np.asarray(X_hr,dtype=object)\n",
    "\n",
    "\n",
    "X_rr = []\n",
    "for seq in range(0,len(flat_list_hrr), TIME_STEP):\n",
    "    X_rr.append(flat_list_hrr[seq:seq+TIME_STEP])\n",
    "X_rr = np.asarray(X_rr,dtype=object)\n",
    "\n",
    "\n",
    "X_dbp = pad_sequences(X_dbp, TIME_STEP,padding='post',value = np.mean(flat_list_hdbp),dtype='float64')\n",
    "X_sbp = pad_sequences(X_sbp, TIME_STEP,padding='post',value = np.mean(flat_list_hsbp),dtype='float64')\n",
    "X_bt = pad_sequences(X_bt, TIME_STEP,padding='post',value = np.mean(flat_list_hbt),dtype='float64')\n",
    "X_hr = pad_sequences(X_hr, TIME_STEP,padding='post',value = np.mean(flat_list_hhr),dtype='float64')\n",
    "X_rr = pad_sequences(X_rr, TIME_STEP,padding='post',value = np.mean(flat_list_hrr),dtype='float64')\n",
    "\n",
    "\n",
    "X_dbp = np.asarray(np.expand_dims(X_dbp,axis=2))\n",
    "X_sbp = np.asarray(np.expand_dims(X_sbp,axis=2))\n",
    "X_bt = np.asarray(np.expand_dims(X_bt,axis=2))\n",
    "X_hr = np.asarray(np.expand_dims(X_hr,axis=2))\n",
    "X_rr = np.asarray(np.expand_dims(X_rr,axis=2))"
   ]
  },
  {
   "cell_type": "code",
   "execution_count": 131,
   "metadata": {},
   "outputs": [
    {
     "name": "stdout",
     "output_type": "stream",
     "text": [
      "(5, 6000, 5)\n"
     ]
    }
   ],
   "source": [
    "min_len = np.min([X_dbp.shape[0],X_sbp.shape[0],X_bt.shape[0],X_hr.shape[0],X_rr.shape[0]])\n",
    "min_len\n",
    "\n",
    "X_dbp = X_dbp[:min_len,:]\n",
    "X_sbp = X_sbp[:min_len,:]\n",
    "X_bt = X_bt[:min_len,:]\n",
    "X_hr = X_hr[:min_len,:]\n",
    "X_rr = X_rr[:min_len,:]\n",
    "\n",
    "Y = np.concatenate([X_dbp, X_sbp, X_bt, X_hr, X_rr],axis=2)\n",
    "X_test = Y # Select the first n instances\n",
    "print(X_test.shape)"
   ]
  },
  {
   "cell_type": "code",
   "execution_count": 132,
   "metadata": {},
   "outputs": [
    {
     "name": "stdout",
     "output_type": "stream",
     "text": [
      "1/1 [==============================] - 2s 2s/step\n"
     ]
    }
   ],
   "source": [
    "res = model.predict(X_test)"
   ]
  },
  {
   "cell_type": "code",
   "execution_count": 133,
   "metadata": {},
   "outputs": [
    {
     "data": {
      "text/plain": [
       "84.76715507324809"
      ]
     },
     "execution_count": 133,
     "metadata": {},
     "output_type": "execute_result"
    }
   ],
   "source": [
    "n_feature = 1\n",
    "abs(np.linalg.norm(res[...,n_feature]) - np.linalg.norm(X_test[...,n_feature],2))"
   ]
  },
  {
   "cell_type": "code",
   "execution_count": 134,
   "metadata": {},
   "outputs": [],
   "source": [
    "# Plot all the feature data\n",
    "\n",
    "#plt.figure(figsize=(20,10))\n",
    "#plt.subplot(211)\n",
    "#plt.plot(res[...,1])\n",
    "#plt.subplot(212)\n",
    "#plt.plot(X_test[...,1])\n",
    "#plt.show()"
   ]
  },
  {
   "cell_type": "code",
   "execution_count": 135,
   "metadata": {},
   "outputs": [
    {
     "name": "stdout",
     "output_type": "stream",
     "text": [
      "=======================================\n",
      "\tTest instance 1\n",
      "=======================================\n",
      "\n",
      "Reconstrucion error on feature 0: 63.427\n",
      "\n",
      "Reconstrucion error on feature 1: 66.788\n",
      "\n",
      "Reconstrucion error on feature 2: 114.478\n",
      "\n",
      "Reconstrucion error on feature 3: 44.048\n",
      "\n",
      "Reconstrucion error on feature 4: 72.364\n",
      "\n"
     ]
    }
   ],
   "source": [
    "p = 4 # test instance\n",
    "\n",
    "# Print the reconstruction error for all the features of a given test instance\n",
    "print('=======================================')\n",
    "print('\\tTest instance ' + str(n_feature))\n",
    "print('======================================='+'\\n')\n",
    "for i in range(0,5):\n",
    "    print('Reconstrucion error on feature ' + str(i) + ': ' + \\\n",
    "          str(np.round(abs(np.linalg.norm(res[p,:,i]) - np.linalg.norm(X_test[p,:,i],2)),3))+'\\n')\n",
    "\n",
    "\n"
   ]
  },
  {
   "cell_type": "code",
   "execution_count": 136,
   "metadata": {},
   "outputs": [
    {
     "name": "stdout",
     "output_type": "stream",
     "text": [
      "(5, 6000, 5) (5, 6000, 5)\n"
     ]
    }
   ],
   "source": [
    "print(X_test.shape,res.shape)"
   ]
  },
  {
   "cell_type": "code",
   "execution_count": 137,
   "metadata": {},
   "outputs": [
    {
     "data": {
      "image/png": "[encoded data removed]",
      "text/plain": [
       "<Figure size 2000x1000 with 1 Axes>"
      ]
     },
     "metadata": {},
     "output_type": "display_data"
    }
   ],
   "source": [
    "plt.figure(figsize=(20,10))\n",
    "plt.subplot(111)\n",
    "plt.plot(res[p,:,n_feature],'r',X_test[p,:,n_feature],'g')\n",
    "plt.show()"
   ]
  }
 ],
 "metadata": {
  "kernelspec": {
   "display_name": "siia",
   "language": "python",
   "name": "python3"
  },
  "language_info": {
   "codemirror_mode": {
    "name": "ipython",
    "version": 3
   },
   "file_extension": ".py",
   "mimetype": "text/x-python",
   "name": "python",
   "nbconvert_exporter": "python",
   "pygments_lexer": "ipython3",
   "version": "3.9.13"
  },
  "orig_nbformat": 4,
  "vscode": {
   "interpreter": {
    "hash": "83f3cce98b4a0628e00255681f870890cb90ecb6f8db2750deab685955efac63"
   }
  }
 },
 "nbformat": 4,
 "nbformat_minor": 2
}
